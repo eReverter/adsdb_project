{
 "cells": [
  {
   "cell_type": "code",
   "execution_count": 1,
   "id": "26b9dc59",
   "metadata": {},
   "outputs": [],
   "source": [
    "from aux_exploitation import *"
   ]
  },
  {
   "cell_type": "code",
   "execution_count": 146,
   "id": "3c1b1b39",
   "metadata": {},
   "outputs": [],
   "source": [
    "name = 'name'\n",
    "password = 'password'\n",
    "db_url = 'postgresql+psycopg2://postgres:{}@localhost:5432/{}'.format(password, name)\n",
    "\n",
    "create_schema(db_url, schema_path='./schemas/conflict_schema.sql')"
   ]
  },
  {
   "cell_type": "code",
   "execution_count": 147,
   "id": "e344aa0a",
   "metadata": {},
   "outputs": [],
   "source": [
    "src_name = 'name'\n",
    "src_password = 'password'\n",
    "db_url_source = 'postgresql+psycopg2://postgres:{}@localhost:5432/{}'.format(password, name)\n",
    "sch_name = 'name'\n",
    "sch_password = 'password'\n",
    "db_url_source = 'postgresql+psycopg2://postgres:{}@localhost:5432/{}'.format(password, name)\n",
    "\n",
    "populate_dimensions(db_url_source, db_url_schema)\n",
    "populate_facts(db_url_source, db_url_schema)"
   ]
  }
 ],
 "metadata": {
  "kernelspec": {
   "display_name": "Python 3 (ipykernel)",
   "language": "python",
   "name": "python3"
  },
  "language_info": {
   "codemirror_mode": {
    "name": "ipython",
    "version": 3
   },
   "file_extension": ".py",
   "mimetype": "text/x-python",
   "name": "python",
   "nbconvert_exporter": "python",
   "pygments_lexer": "ipython3",
   "version": "3.9.9"
  }
 },
 "nbformat": 4,
 "nbformat_minor": 5
}
