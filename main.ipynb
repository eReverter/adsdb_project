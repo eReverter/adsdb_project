{
 "cells": [
  {
   "cell_type": "code",
   "execution_count": 1,
   "metadata": {},
   "outputs": [],
   "source": [
    "from aux_functions import *\n",
    "from landing_zone.aux_landing import *\n",
    "from formatted_zone.aux_formatted import *\n",
    "from trusted_zone.aux_trusted import *\n",
    "from exploitation_zone import *"
   ]
  },
  {
   "cell_type": "code",
   "execution_count": 4,
   "metadata": {},
   "outputs": [],
   "source": [
    "landing, temporal, persistent, formatted, trusted, exploitation = connect_paths()"
   ]
  },
  {
   "cell_type": "code",
   "execution_count": 6,
   "metadata": {},
   "outputs": [
    {
     "data": {
      "text/plain": [
       "'c:\\\\Users\\\\ereve\\\\projects\\\\mds\\\\ads\\\\adsdb_project\\\\exploitation_zone'"
      ]
     },
     "execution_count": 6,
     "metadata": {},
     "output_type": "execute_result"
    }
   ],
   "source": []
  }
 ],
 "metadata": {
  "interpreter": {
   "hash": "b65f8c67370667d0adc9e610192d3d771ab29a08e3746b752a6b11121b80b184"
  },
  "kernelspec": {
   "display_name": "Python 3.9.7 64-bit ('adsdb': conda)",
   "language": "python",
   "name": "python3"
  },
  "language_info": {
   "codemirror_mode": {
    "name": "ipython",
    "version": 3
   },
   "file_extension": ".py",
   "mimetype": "text/x-python",
   "name": "python",
   "nbconvert_exporter": "python",
   "pygments_lexer": "ipython3",
   "version": "3.9.7"
  },
  "orig_nbformat": 4
 },
 "nbformat": 4,
 "nbformat_minor": 2
}
