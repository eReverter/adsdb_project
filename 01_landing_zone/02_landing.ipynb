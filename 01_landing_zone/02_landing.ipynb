{
 "cells": [
  {
   "cell_type": "markdown",
   "metadata": {},
   "source": [
    "Check the files in the temporal folder."
   ]
  },
  {
   "cell_type": "code",
   "execution_count": 1,
   "metadata": {},
   "outputs": [],
   "source": [
    "from aux_landing import *\n",
    "import os"
   ]
  },
  {
   "cell_type": "code",
   "execution_count": 2,
   "metadata": {},
   "outputs": [
    {
     "name": "stdout",
     "output_type": "stream",
     "text": [
      "Data File(s) in the temporal zone: []\n"
     ]
    }
   ],
   "source": [
    "landing_zone = os.getcwd()\n",
    "temporal = os.path.join(landing_zone, 'temporal')\n",
    "persistent = os.path.join(landing_zone, 'persistent')\n",
    "temporal_data = [x for x in os.listdir(temporal) if x.partition('.')[-1] in ['csv', 'dta' , 'xlsx']]\n",
    "print('Data File(s) in the temporal zone: {}'.format(temporal_data))"
   ]
  },
  {
   "cell_type": "code",
   "execution_count": 3,
   "metadata": {},
   "outputs": [
    {
     "name": "stdout",
     "output_type": "stream",
     "text": [
      "c:\\Users\\ereve\\projects\\mds\\ads\\project\\01_landing_zone\\persistent\\wbd_20220103.csv\n",
      "c:\\Users\\ereve\\projects\\mds\\ads\\project\\01_landing_zone\\persistent\\wbd.csv\n"
     ]
    }
   ],
   "source": [
    "for file in temporal_data:\n",
    "    shutil.move(os.path.join(temporal, file), os.path.join(persistent, file)) # Moves the file into persistent\n",
    "    rename_csv(filename = file, file_path = persistent) # Changes the name according to the convention"
   ]
  }
 ],
 "metadata": {
  "interpreter": {
   "hash": "b65f8c67370667d0adc9e610192d3d771ab29a08e3746b752a6b11121b80b184"
  },
  "kernelspec": {
   "display_name": "Python 3.9.7 64-bit ('adsdb': conda)",
   "language": "python",
   "name": "python3"
  },
  "language_info": {
   "codemirror_mode": {
    "name": "ipython",
    "version": 3
   },
   "file_extension": ".py",
   "mimetype": "text/x-python",
   "name": "python",
   "nbconvert_exporter": "python",
   "pygments_lexer": "ipython3",
   "version": "3.9.6"
  },
  "orig_nbformat": 4
 },
 "nbformat": 4,
 "nbformat_minor": 2
}
