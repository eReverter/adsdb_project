{
 "cells": [
  {
   "cell_type": "markdown",
   "id": "c02753a9",
   "metadata": {},
   "source": [
    "### Retrieve indicators from World Bank Data"
   ]
  },
  {
   "cell_type": "code",
   "execution_count": 4,
   "id": "31fd8d98",
   "metadata": {},
   "outputs": [],
   "source": [
    "import wbgapi as wb\n",
    "import pandas as pd\n",
    "\n",
    "import os"
   ]
  },
  {
   "cell_type": "markdown",
   "id": "9dee05b2",
   "metadata": {},
   "source": [
    "Join paths of the directory:"
   ]
  },
  {
   "cell_type": "code",
   "execution_count": 5,
   "id": "79fc825a",
   "metadata": {},
   "outputs": [],
   "source": [
    "landing_zone = os.getcwd()\n",
    "temporal = os.path.join(landing_zone, 'temporal')\n",
    "persistent = os.path.join(landing_zone, 'persistent')"
   ]
  },
  {
   "cell_type": "markdown",
   "id": "ddddd445",
   "metadata": {},
   "source": [
    "Choose the parameters to retrieve from the World Bank Data:"
   ]
  },
  {
   "cell_type": "code",
   "execution_count": 14,
   "id": "758b163f",
   "metadata": {},
   "outputs": [],
   "source": [
    "indicators = wb.topic.members(11).union({'SI.POV.GINI', 'NE.IMP.GNFS.KN', 'BX.GSR.GNFS.CD', 'NY.GDP.MKTP.CD', 'SP.ADO.TFRT', 'SL.TLF.0714.ZS', 'SP.DYN.LE00.FE.IN', 'SP.DYN.LE00.MA.IN'}) # Get indicators of interest\n",
    "countries = wb.region.members('CEA').union(wb.region.members('CSA')) # Get Asia countries\n",
    "years = range(2000, 2019) # Until pre-covid"
   ]
  },
  {
   "cell_type": "markdown",
   "id": "748b4e64",
   "metadata": {},
   "source": [
    "Get the data from the API:"
   ]
  },
  {
   "cell_type": "code",
   "execution_count": 16,
   "id": "486dfa86",
   "metadata": {},
   "outputs": [],
   "source": [
    "df = wb.data.DataFrame(indicators, countries, years, columns='series').reset_index()"
   ]
  },
  {
   "cell_type": "markdown",
   "id": "e84d0d0a",
   "metadata": {},
   "source": [
    "Get the proper format as the API returns some unusual strings:"
   ]
  },
  {
   "cell_type": "code",
   "execution_count": 19,
   "id": "2c5036c3",
   "metadata": {},
   "outputs": [],
   "source": [
    "df['time'] = df['time'].str[-4:].astype(int)"
   ]
  },
  {
   "cell_type": "code",
   "execution_count": 6,
   "id": "50456d41",
   "metadata": {},
   "outputs": [
    {
     "name": "stderr",
     "output_type": "stream",
     "text": [
      "C:\\Users\\ereve\\AppData\\Local\\Temp/ipykernel_1932/2651983046.py:3: FutureWarning: The default value of regex will change from True to False in a future version. In addition, single character regular expressions will *not* be treated as literal strings when regex=True.\n",
      "  df.columns = df.columns.str.replace(\".\", \"_\")\n"
     ]
    }
   ],
   "source": [
    "df.columns = df.columns.str.replace(\".\", \"_\")\n",
    "df.columns = map(str.lower, df.columns)"
   ]
  },
  {
   "cell_type": "markdown",
   "id": "8be4570a",
   "metadata": {},
   "source": [
    "Store the data in the temporal folder:"
   ]
  },
  {
   "cell_type": "code",
   "execution_count": 8,
   "id": "d23b5628",
   "metadata": {},
   "outputs": [],
   "source": [
    "df.to_csv(os.path.join(persistent, \"wbd_20220122.csv\"), index=False)"
   ]
  }
 ],
 "metadata": {
  "interpreter": {
   "hash": "d975978b76ffd50355ffd5b0b9e8191f963f2129e31a01290949319c83e95f8d"
  },
  "kernelspec": {
   "display_name": "myenv",
   "language": "python",
   "name": "python3"
  },
  "language_info": {
   "codemirror_mode": {
    "name": "ipython",
    "version": 3
   },
   "file_extension": ".py",
   "mimetype": "text/x-python",
   "name": "python",
   "nbconvert_exporter": "python",
   "pygments_lexer": "ipython3",
   "version": "3.9.7"
  }
 },
 "nbformat": 4,
 "nbformat_minor": 5
}
